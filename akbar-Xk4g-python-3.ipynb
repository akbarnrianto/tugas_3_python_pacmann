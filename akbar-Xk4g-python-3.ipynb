{
 "cells": [
  {
   "cell_type": "markdown",
   "metadata": {
    "id": "4A8hmVwx2_D2"
   },
   "source": [
    "# Tugas Python 3\n",
    "\n",
    "* Silakan download dan kerjakan soal berikut dimanapun (laptop pribadi/google colab/etc.)\n",
    "* Setelah selesai mengerjakan, upload file ini di tempat yang telah disediakan pada platform.\n",
    "* Beri nama file seperti berikut: {username}-python-3.ipynb\n",
    "* Contoh: johndoe1-python-3.ipynb\n",
    "* Username dapat dilihat di dalam akun anda.\n",
    "* Mohon jangan mengubah nama variabel yang telah diberikan.\n",
    "* Namun anda diperbolehkan untuk menambah variabel apapun.\n",
    "---"
   ]
  },
  {
   "cell_type": "markdown",
   "metadata": {
    "id": "iA1slMeF2_D5"
   },
   "source": [
    "1. Budi ingin membuat sebuah program untuk menghitung banyak elemen bernilai genap dari _list_ berisi sekumpulan bilangan. Contoh dari _input_ dan output yang benar adalah sebagai berikut:\\\n",
    "```input: [1,3,4,5,9,10], output: 2```\\\n",
    "Di bawah ini adalah algoritma yang Budi buat. Ketika Budi mencoba programnya dengan _input_ seperti contoh di atas, program memberikan output yang benar. Namun, ketika Budi mencoba list yang lain, yaitu ```[6,8,11,14,17,18]```, program tidak memberikan output yang benar (seharusnya 4, namun program memberikan output 3). Bahkan, ketika Budi memasukkan list ```[4,6,7,10]```, program Budi _error_. </br>\n",
    "a. Perbaiki program Budi agar output program sesuai yang diharapkan. </br>\n",
    "b. Berikan _defense_ pada fungsi untuk memastikan semua bilangan pada `list_bilangan` bertipe `int`. </br>\n",
    "c. Langkah pada _defense_ adalah mencoba _typecastin_ ke `int`, jika tidak bisa maka `raiseError`"
   ]
  },
  {
   "cell_type": "code",
   "execution_count": 6,
   "metadata": {
    "id": "UCoStWRV2_D7",
    "outputId": "b7f69c69-44f1-4fe5-d1fc-8fc5330520cc"
   },
   "outputs": [
    {
     "name": "stdout",
     "output_type": "stream",
     "text": [
      "2\n",
      "4\n",
      "3\n"
     ]
    }
   ],
   "source": [
    "#perbaiki program di bawah ini\n",
    "def jawaban_1(list_bilangan):\n",
    "    count = 0\n",
    "    for i in range(len(list_bilangan)):\n",
    "        if type(list_bilangan[i]) is str:\n",
    "            raise ValueError('ada string')\n",
    "        if type(list_bilangan[i]) is not int:\n",
    "            list_bilangan[i] = int(list_bilangan[i])\n",
    "        if list_bilangan[i]%2 == 0:\n",
    "            count+=1\n",
    "    return count\n",
    "\n",
    "print(jawaban_1([1,3,4,5,9,10]))\n",
    "print(jawaban_1([6,8,11,14,17,18]))\n",
    "print(jawaban_1([4,6,7,10]))"
   ]
  },
  {
   "cell_type": "markdown",
   "metadata": {
    "id": "0Ilpq0sm2_EH"
   },
   "source": [
    "2. Buatlah program yang menerima _input_ berupa _list_ berisi bilangan, dan mengeluarkan _output_ berupa elemen terbesar pada _list_ tersebut. Contoh:\n",
    "```input: [4,9,11,5,8,14,8,5,4,10], output: 14```\\\n",
    "Beri _defense_ untuk program Anda berupa pesan ```'Terjadi kesalahan pada input'``` jika _user_ memasukkan tipe data _integer/float/string_ pada _input_ atau terdapat elemen _list_ yang bukan _integer/float_, dan pesan ```'Panjang list minimal 2'``` jika panjang _list input_ kurang dari 2.\n",
    "**Catatan:** Jangan gunakan fungsi ```max()```.\\\n",
    "**Hint:** kombinasikan try/except dengan assert dengan tipe exception AssertionError."
   ]
  },
  {
   "cell_type": "code",
   "execution_count": 7,
   "metadata": {
    "id": "lGsKSQU12_EI",
    "outputId": "c40d3ace-4c61-422c-f2f5-b2602cc76b5f"
   },
   "outputs": [
    {
     "name": "stdout",
     "output_type": "stream",
     "text": [
      "4\n",
      "8\n",
      "5\n",
      "Panjang list minimal 2\n",
      "terjadi kesalahan pada input\n"
     ]
    }
   ],
   "source": [
    "def jawaban_2(list_numbers):\n",
    "    try:\n",
    "        assert type(list_numbers) == list\n",
    "        if len(list_numbers) < 2:\n",
    "            return 'Panjang list minimal 2'\n",
    "        m = list_numbers[0]\n",
    "        for i in range(1,len(list_numbers)):\n",
    "            if m > list_numbers[i]:\n",
    "                m = list_numbers[i]\n",
    "        return m\n",
    "    except AssertionError:\n",
    "        return(\"terjadi kesalahan pada input\")\n",
    "    \n",
    "print(jawaban_2([4,9,11,5,8,14,8,5,4,10]))\n",
    "print(jawaban_2([15,8,9,11]))\n",
    "print(jawaban_2([10,5,8,19]))\n",
    "print(jawaban_2([13]))\n",
    "print(jawaban_2('sdfuh'))"
   ]
  },
  {
   "cell_type": "markdown",
   "metadata": {
    "id": "5tDQhv5dfJlV"
   },
   "source": [
    "3. Buatlah _class_ `RegularPolygon` yang memiliki atribut `no_of_sides` dan `side_length`. `no_of_sides` adalah _integer_ yang menyatakan banyak sisi yang dimiliki poligon dan `side_length` adalah panjang dari sisi poligon. Objek yang dibentuk oleh _class_ ini adalah poligon sama sisi.\\\n",
    "Buat _method_ pada `RegularPolygon` sebagai berikut:\n",
    "    * `perimeter` menghitung keliling poligon. \n",
    "    * `interior_angle` menghitung besar sudut interior poligon, yaitu $interior\\,angle = (n-2)\\times 180/n$ (dalam derajat)\n",
    "    * `exterior_angle` menghitung besar sudut eksterior poligon, yaitu $exterior\\,angle = 360/n$ (dalam derajat)\n",
    "    \n",
    "    ($n$ pada keterangan rumus adalah banyak sisi yang dimiliki poligon. Keterangan lebih lanjut mengenai sudut interior dan eksterior dapat dilihat [disini](https://www.mathsisfun.com/geometry/regular-polygons.html)).\n",
    "    \n",
    "**Pada variabel jawaban_3, isi dengan _tuple_ dengan elemen berturut-turut adalah keliling, sudut interior, dan sudut eksterior dari segi-300 dengan panjang sisi 5, yaitu _tuple_ `(keliling, sudut interior, sudut exterior)`.**"
   ]
  },
  {
   "cell_type": "code",
   "execution_count": 8,
   "metadata": {
    "colab": {
     "base_uri": "https://localhost:8080/"
    },
    "executionInfo": {
     "elapsed": 14,
     "status": "ok",
     "timestamp": 1633054180316,
     "user": {
      "displayName": "Dheny Catur Kristanto",
      "photoUrl": "https://lh3.googleusercontent.com/a-/AOh14Gi0PRDxgck41_jihEE96eT27O72S_AnHt_Gsl8g1g=s64",
      "userId": "00855046009393079616"
     },
     "user_tz": -480
    },
    "id": "diY5ZHK5fJlW",
    "outputId": "eaf1250d-4896-4cc5-8624-fcb5d7d49f2e"
   },
   "outputs": [
    {
     "name": "stdout",
     "output_type": "stream",
     "text": [
      "(1500, 108.0, 72.0)\n"
     ]
    }
   ],
   "source": [
    "#lengkapi kode di bawah ini\n",
    "class RegularPolygon:\n",
    "    def __init__(self, side_length, no_of_sides):\n",
    "        self.side_length = side_length\n",
    "        self.no_of_sides = no_of_sides\n",
    "        \n",
    "    def perimeter(self):\n",
    "        keliling = self.side_length*self.no_of_sides\n",
    "        return keliling\n",
    "    \n",
    "    def interior_angle(self):\n",
    "        sudut_int = (self.no_of_sides-2)*180/self.no_of_sides\n",
    "        return sudut_int\n",
    "        \n",
    "    def exterior_angle(self):\n",
    "        sudut_ext = 360/self.no_of_sides\n",
    "        return sudut_ext\n",
    "\n",
    "segi_300 = RegularPolygon(300,5)\n",
    "\n",
    "keliling = segi_300.perimeter()\n",
    "sudut_int = segi_300.interior_angle()\n",
    "sudut_ext = segi_300.exterior_angle()\n",
    "\n",
    "jawaban_3 = (keliling,sudut_int,sudut_ext)\n",
    "print(jawaban_3)"
   ]
  },
  {
   "cell_type": "markdown",
   "metadata": {
    "id": "97248N-HfJlY"
   },
   "source": [
    "4. Buatlah _class_ `Rekening` dengan atribut `saldo`, yaitu saldo yang dimiliki oleh rekening tersebut. Nilai awal/_default_ dari `saldo` adalah 0. `Rekening` memiliki tiga _method_:\n",
    "* `__str__` : menampilkan sisa saldo rekening.\n",
    "* `tarik` : menarik sejumlah uang dari saldo rekening sehingga saldo rekening berkurang. _Method_ ini mengembalikan nilai berupa sisa saldo setelah penarikan uang.\n",
    "* `deposit` : menambahkan sejumlah uang ke saldo rekening sehingga saldo rekening bertambah. _Method_ ini mengembalikan nilai berupa sisa saldo setelah uang ditambahkan.\n",
    "\n",
    "Buatlah juga _class_ `RekeningKhusus`, yaitu rekening yang mengharuskan pemegang rekening memiliki saldo minimum di dalam rekening tersebut. Pemegang rekening tidak bisa menarik uang jika setelah ditarik sisa saldo rekening tersebut di bawah minimum.\n",
    "* Buatlah `RekeningKhusus` yang _inherit_ dari `Rekening`, dan tambahkan atribut `saldo_minimum`.\n",
    "* _Override_ _method_ `tarik` sehingga jika sisa saldo setelah penarikan uang di bawah saldo minimum maka akan keluar pesan `'Saldo tidak boleh di bawah saldo minimum'`."
   ]
  },
  {
   "cell_type": "markdown",
   "metadata": {
    "id": "JXE_BHLafJlY"
   },
   "source": [
    "\\**Pertanyaan: Ica adalah pemegang rekening khusus dengan saldo minimum Rp1.000.000. Saldo awal Ica adalah Rp100.000.000. Kemudian ia menambahkan uang sebesar Rp50.000.000. Kemudian ia menarik uang Rp109.000.000 untuk belanja. Print nilai dari variabel jawaban_4 jika ia mencoba menarik lagi uangnya sebesar Rp 40.500.000.**"
   ]
  },
  {
   "cell_type": "code",
   "execution_count": 9,
   "metadata": {
    "colab": {
     "base_uri": "https://localhost:8080/"
    },
    "executionInfo": {
     "elapsed": 830,
     "status": "ok",
     "timestamp": 1613960629581,
     "user": {
      "displayName": "Teaching #01",
      "photoUrl": "",
      "userId": "07859082303017123723"
     },
     "user_tz": -420
    },
    "id": "b4mJ3pUJfJlZ",
    "outputId": "1583e641-87b5-48d4-ab38-122b040d792e"
   },
   "outputs": [
    {
     "name": "stdout",
     "output_type": "stream",
     "text": [
      "Sisa Saldo Anda: saldo tidak boleh dibawah saldo minimum\n"
     ]
    }
   ],
   "source": [
    "#lengkapi kode di bawah ini\n",
    "class Rekening:\n",
    "    def __init__(self, saldo=0):\n",
    "        self.saldo = saldo\n",
    "        \n",
    "    def tarik(self, other_saldo):\n",
    "        self.saldo = self.saldo - other_saldo\n",
    "        return Rekening(self.saldo)\n",
    "    \n",
    "    def deposit(self, other_saldo):\n",
    "        self.saldo = self.saldo + other_saldo\n",
    "        return Rekening(self.saldo)\n",
    "    \n",
    "    def __str__(self):\n",
    "        return \"Sisa Saldo Anda:\" + \" \"+ str(self.saldo)\n",
    "\n",
    "class RekeningKhusus(Rekening):\n",
    "    def __init__(self, saldo, saldo_minimum):\n",
    "        Rekening.__init__(self, saldo)\n",
    "        self.saldo_minimum = saldo_minimum\n",
    "    \n",
    "    def tarik(self, other_saldo):\n",
    "        self.saldo = self.saldo - other_saldo\n",
    "        if self.saldo < self.saldo_minimum:\n",
    "            return RekeningKhusus(\"saldo tidak boleh dibawah saldo minimum\", self.saldo_minimum)\n",
    "        else:\n",
    "            return RekeningKhusus(self.saldo, self.saldo_minimum)\n",
    "\n",
    "\n",
    "rek = RekeningKhusus(100_000_000,1_000_000)\n",
    "rek.deposit(50_000_000)\n",
    "rek.tarik(109_000_000)\n",
    "jawaban_4 = rek.tarik(40_500_000)\n",
    "print(jawaban_4)"
   ]
  },
  {
   "cell_type": "markdown",
   "metadata": {
    "id": "j5jfjx04fJlZ"
   },
   "source": [
    "5. Diketahui bakteri spesies A membelah diri menjadi dua individu setiap satu jam sekali. Sebuah laboratorium melakukan percobaan dengan bakteri A. Setiap tiga jam, 25% dari bakteri dimatikan. Contoh skema banyak bakteri A pada percobaan tersebut adalah sebagai berikut:\n",
    "- Misalkan mula-mula terdapat 100 bakteri.\n",
    "- Satu jam pertama, bakteri membelah diri sehingga sekarang menjadi 200 bakteri.\n",
    "- Satu jam berikutnya, bakteri membelah diri lagi sehingga menjadi 400 bakteri.\n",
    "- Satu jam berikutnya, bakteri membelah diri lagi menjadi 800 bakteri. Kemudian, 25% dari bakteri dimatikan. Sehingga, pada saat ini akan ada $800 - 25\\%(800) = 600$ bakteri.\n",
    "- Satu jam berikutnya, bakteri membelah diri lagi menjadi $600\\times 2 = 1200$ bakteri.\\\n",
    "Dan seterusnya.\n",
    "Buatlah _generator_ `bakteri(init,hour)` yang meng-_generate_ banyak bakteri di tiap jam (mulai dari jam ke-1) dengan banyak bakteri awal adalah `init` dan lama pengamatan `hour` (dalam jam). Misalnya:"
   ]
  },
  {
   "cell_type": "markdown",
   "metadata": {
    "id": "_-xL_XK0fJlb"
   },
   "source": [
    "Pada variabel jawaban_5, buatlah _list_ yang berisi banyak bakteri di setiap jam pada 10 jam pertama pengamatan. Diketahui banyak bakteri awal adalah 50 bakteri.\\\n",
    "**Hint**: Jika kesusahan bisa mencoba menggunakan `print` terlebih dahulu untuk mencoba logika kode"
   ]
  },
  {
   "cell_type": "code",
   "execution_count": 10,
   "metadata": {
    "id": "qydlPqLVfJlb",
    "outputId": "ed205ee6-bad9-4c2d-f707-fb7c53e11867"
   },
   "outputs": [
    {
     "name": "stdout",
     "output_type": "stream",
     "text": [
      "[100, 200, 300, 600, 1200, 1800, 3600, 7200, 10800, 21600]\n"
     ]
    }
   ],
   "source": [
    "#lengkapi kode di bawah ini\n",
    "def bakteri(init,hour):\n",
    "    for i in range(1,hour+1):\n",
    "        init *= 2\n",
    "        if i % 3 == 0:\n",
    "            init = int(init - ((1/4)*init))\n",
    "        yield(init)\n",
    "    \n",
    "jawaban_5 = [int(i) for i in bakteri(50,10)]\n",
    "print(jawaban_5)"
   ]
  },
  {
   "cell_type": "markdown",
   "metadata": {
    "id": "kZbB9ZtYfJlc"
   },
   "source": [
    "6. **SOAL EKSTRA. Tidak akan dinilai, namun silakan apabila ingin dikerjakan.**"
   ]
  },
  {
   "cell_type": "markdown",
   "metadata": {
    "id": "ixwrAv2zfJlc"
   },
   "source": [
    "Buatlah _class_ `Time` yang merupakan waktu dalam satu hari dalam format 24 jam. `Time` memiliki dua atribut, `hour` dan `minute`, yang masing-masing adalah jam dan menit dari waktu tersebut. Contoh, `Time(1,0)` adalah jam 1:00, `Time(14,50)` adalah jam 14:50. `Time` memiliki beberapa _method_:\n",
    "* `__str__` : menampilkan waktu yang diinput.\n",
    "* `__add__` : menambahkan dua waktu. Contoh: `Time(10,0) + Time(5,20) = Time(15,20)` (10:00 + 5:20 = 15:20)\n",
    "* `__sub__` : mengurangi dua waktu. Contoh: `Time(10,0) - Time(5,20) = Time(4,40)` (10:00 - 5:20 = 4:40)\n",
    "\n",
    "Jika Anda lupa cara menjumlahkan atau mengurangi dua waktu, silakan cari di Google.\\\n",
    "**Pertanyaan: Sebuah jam saat ini menunjukkan pukul 17:30. Seseorang iseng memutar-mutar jarum jam tersebut. Ia memutar mundur jam tersebut sebanyak 3 jam 51 menit, lalu memutar maju kembali jam tersebut sebanyak 1 jam 27 menit. Pukul berapa yang ditunjukkan jam tersebut sekarang? Tuliskan jawaban Anda di variabel jawaban_6.**"
   ]
  },
  {
   "cell_type": "code",
   "execution_count": 11,
   "metadata": {
    "id": "ZG9VuQlufJlc",
    "outputId": "d22e5440-d83c-4b49-f24e-b203e4aa8aa8"
   },
   "outputs": [
    {
     "name": "stdout",
     "output_type": "stream",
     "text": [
      "Now is 15:06\n"
     ]
    }
   ],
   "source": [
    "class Time:\n",
    "    def __init__(self,hour,minute):\n",
    "        self.hour = hour\n",
    "        self.minute = minute\n",
    "    def __str__(self):\n",
    "        if self.minute < 10:\n",
    "            return f'Now is {self.hour}:0{self.minute}'\n",
    "        return f'Now is {self.hour}:{self.minute}'\n",
    "    def __add__(self,time):\n",
    "        self.minute = self.minute + time.minute\n",
    "        if self.minute >= 60:\n",
    "            self.minute = self.minute - 60\n",
    "            time.hour = time.hour + 1\n",
    "        self.hour = self.hour + time.hour\n",
    "        if self.hour >= 24:\n",
    "            self.hour = self.hour - 24\n",
    "        return self\n",
    "    def __sub__(self,time):\n",
    "        self.minute = self.minute - time.minute\n",
    "        if self.minute < 0:\n",
    "            self.minute = self.minute + 60\n",
    "            self.hour = self.hour - 1\n",
    "        self.hour = self.hour - time.hour\n",
    "        if self.hour < 0:\n",
    "            self.hour = self.hour + 24\n",
    "        return self\n",
    "\n",
    "jawaban_6 = Time(17,30) - Time(3,51) + Time(1,27)\n",
    "print(jawaban_6)"
   ]
  },
  {
   "cell_type": "markdown",
   "metadata": {
    "id": "7pwxYkY27uak"
   },
   "source": [
    "## Good Job!"
   ]
  }
 ],
 "metadata": {
  "colab": {
   "collapsed_sections": [],
   "name": "python_soal_3.ipynb",
   "provenance": []
  },
  "kernelspec": {
   "display_name": "Python 3 (ipykernel)",
   "language": "python",
   "name": "python3"
  },
  "language_info": {
   "codemirror_mode": {
    "name": "ipython",
    "version": 3
   },
   "file_extension": ".py",
   "mimetype": "text/x-python",
   "name": "python",
   "nbconvert_exporter": "python",
   "pygments_lexer": "ipython3",
   "version": "3.9.7"
  }
 },
 "nbformat": 4,
 "nbformat_minor": 4
}
